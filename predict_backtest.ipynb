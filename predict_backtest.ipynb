{
 "cells": [
  {
   "cell_type": "code",
   "execution_count": null,
   "metadata": {
    "colab": {
     "base_uri": "https://localhost:8080/"
    },
    "executionInfo": {
     "elapsed": 7482,
     "status": "ok",
     "timestamp": 1730557187551,
     "user": {
      "displayName": "Ngọc Thắng Cao",
      "userId": "10985123519591258302"
     },
     "user_tz": -420
    },
    "id": "Cj8RsGCaQfvg",
    "outputId": "ad0ab091-b084-4ffb-c7b4-41344cba78ef"
   },
   "outputs": [
    {
     "ename": "",
     "evalue": "",
     "output_type": "error",
     "traceback": [
      "\u001b[1;31mThe kernel failed to start as the Python Environment 'Python' is no longer available. Consider selecting another kernel or refreshing the list of Python Environments."
     ]
    }
   ],
   "source": [
    "from google.colab import drive\n",
    "drive.mount('/content/drive')"
   ]
  },
  {
   "cell_type": "code",
   "execution_count": null,
   "metadata": {
    "colab": {
     "base_uri": "https://localhost:8080/"
    },
    "executionInfo": {
     "elapsed": 9,
     "status": "ok",
     "timestamp": 1730557187552,
     "user": {
      "displayName": "Ngọc Thắng Cao",
      "userId": "10985123519591258302"
     },
     "user_tz": -420
    },
    "id": "-Fn43Sg5Q4yZ",
    "outputId": "6ae54803-084e-47a2-9d18-409374279b82"
   },
   "outputs": [],
   "source": [
    "%cd \"/content/drive/MyDrive/FastAPI Demo\""
   ]
  },
  {
   "cell_type": "code",
   "execution_count": null,
   "metadata": {
    "id": "4RfE7O0NQclp"
   },
   "outputs": [
    {
     "ename": "",
     "evalue": "",
     "output_type": "error",
     "traceback": [
      "\u001b[1;31mThe kernel failed to start as the Python Environment 'Python' is no longer available. Consider selecting another kernel or refreshing the list of Python Environments."
     ]
    }
   ],
   "source": [
    "from models.unet_model import unet\n",
    "from models.cnn_model import cnn\n",
    "from glob import glob\n",
    "from process.pre_process import resize_image, new_resize_image, split_image, merge_images\n",
    "import os\n",
    "import json\n",
    "import cv2\n",
    "import pandas as pd\n",
    "import matplotlib.pyplot as plt\n",
    "import base64\n",
    "import numpy as np\n",
    "import io\n",
    "import math"
   ]
  },
  {
   "cell_type": "code",
   "execution_count": null,
   "metadata": {
    "colab": {
     "base_uri": "https://localhost:8080/"
    },
    "executionInfo": {
     "elapsed": 406,
     "status": "ok",
     "timestamp": 1730554289276,
     "user": {
      "displayName": "Ngọc Thắng Cao",
      "userId": "10985123519591258302"
     },
     "user_tz": -420
    },
    "id": "ztQ-uDjGQclv",
    "outputId": "519a11e0-4f41-49af-ce48-ef944217c30f"
   },
   "outputs": [],
   "source": [
    "backtest_path = sorted(glob(os.path.join('images', 'Low resolution', \"*\")))\n",
    "backtest_path"
   ]
  },
  {
   "cell_type": "code",
   "execution_count": null,
   "metadata": {
    "id": "dcvCEEFOQclx"
   },
   "outputs": [],
   "source": [
    "def cut_unecessary_img(image):\n",
    "    \"\"\"\n",
    "    Crop unnecessary parts of the image and keep only the main object.\n",
    "\n",
    "    Parameters:\n",
    "    image (array): The input image to process, in BGR format.\n",
    "\n",
    "    Returns:\n",
    "    array: The cropped image or the original image if no suitable contour is found.\n",
    "    \"\"\"\n",
    "    # Check if the image is valid\n",
    "    if image is None:\n",
    "        print(\"Invalid image.\")\n",
    "        return image\n",
    "\n",
    "    # Convert the image to grayscale\n",
    "    gray_image = cv2.cvtColor(image, cv2.COLOR_BGR2GRAY)\n",
    "\n",
    "    # Set the threshold value and threshold the image\n",
    "    threshold_value = 185\n",
    "    ret, thresholded_image = cv2.threshold(gray_image, threshold_value, 255, cv2.THRESH_BINARY)\n",
    "\n",
    "    # Invert the thresholded image\n",
    "    thresholded_image = cv2.bitwise_not(thresholded_image)\n",
    "\n",
    "    # Find all contours in the thresholded image\n",
    "    contours, _ = cv2.findContours(thresholded_image, cv2.RETR_LIST, cv2.CHAIN_APPROX_SIMPLE)\n",
    "\n",
    "    # Create a black mask with the same size as the grayscale image\n",
    "    mask = np.zeros_like(gray_image)\n",
    "\n",
    "    # Save contours that meet the condition into a list\n",
    "    new_contours = []\n",
    "\n",
    "    # Set the minimum height for contours (50% of the image height)\n",
    "    MIN_HEIGHT = image.shape[1] * 0.5\n",
    "\n",
    "    # Filter contours with height greater than or equal to MIN_HEIGHT\n",
    "    for cnt in contours:\n",
    "        x, y, w, h = cv2.boundingRect(cnt)\n",
    "        if h >= MIN_HEIGHT:\n",
    "            new_contours.append(cnt)\n",
    "\n",
    "    # If no suitable contour is found, return the original image\n",
    "    if not new_contours:\n",
    "        return image\n",
    "\n",
    "    # Get the largest contour that meets the condition\n",
    "    con = new_contours[0]\n",
    "    x, y, w, h = cv2.boundingRect(con)\n",
    "    if h < image.shape[0] and w < image.shape[1]:\n",
    "        # Draw a white contour on the mask\n",
    "        cv2.drawContours(mask, [con], -1, (255), thickness=cv2.FILLED)\n",
    "\n",
    "        # Apply the mask to the original image to keep the white contour area\n",
    "        result = cv2.bitwise_and(image, image, mask=mask)\n",
    "\n",
    "        # Crop the image\n",
    "        result = result[y:y+h, x:x+w]\n",
    "\n",
    "    result = result.astype(np.uint8)\n",
    "    return result"
   ]
  },
  {
   "cell_type": "code",
   "execution_count": null,
   "metadata": {
    "colab": {
     "base_uri": "https://localhost:8080/",
     "height": 1000,
     "output_embedded_package_id": "18aib-j-YknTDwDVU_Ptc95cFZcc4r05F"
    },
    "executionInfo": {
     "elapsed": 9953,
     "status": "ok",
     "timestamp": 1730555480593,
     "user": {
      "displayName": "Ngọc Thắng Cao",
      "userId": "10985123519591258302"
     },
     "user_tz": -420
    },
    "id": "30E8FVnObNe9",
    "outputId": "09543094-d45d-40b7-dbb1-f8ba5ced81ec"
   },
   "outputs": [],
   "source": [
    "images_bt = []\n",
    "for i in backtest_path:\n",
    "    img = cv2.imread(i)\n",
    "    images_bt.append(img)\n",
    "images_after_process = []\n",
    "for img in images_bt:\n",
    "    img = cut_unecessary_img(img)\n",
    "    images_after_process.append(img)\n",
    "    plt.imshow(img)\n",
    "    plt.axis('off')\n",
    "    plt.show()"
   ]
  },
  {
   "cell_type": "code",
   "execution_count": null,
   "metadata": {
    "id": "CjmYw7D_JSEC"
   },
   "outputs": [],
   "source": [
    "def get_contours_max(image):\n",
    "\n",
    "    # Convert the image to grayscale\n",
    "    gray_image = cv2.cvtColor(image, cv2.COLOR_BGR2GRAY)\n",
    "\n",
    "    # Set the threshold value and threshold the image\n",
    "    threshold_value = 185\n",
    "    ret, thresholded_image = cv2.threshold(gray_image, threshold_value, 255, cv2.THRESH_BINARY)\n",
    "\n",
    "    # Invert the thresholded image\n",
    "    thresholded_image = cv2.bitwise_not(thresholded_image)\n",
    "\n",
    "    # Find all contours in the thresholded image\n",
    "    contours, _ = cv2.findContours(thresholded_image, cv2.RETR_LIST, cv2.CHAIN_APPROX_SIMPLE)\n",
    "\n",
    "    # Create a black mask with the same size as the grayscale image\n",
    "    mask = np.zeros_like(gray_image)\n",
    "\n",
    "    # Save contours that meet the condition into a list\n",
    "    new_contours = []\n",
    "\n",
    "    # Set the minimum height for contours (50% of the image height)\n",
    "    MIN_HEIGHT = image.shape[1] * 0.5\n",
    "\n",
    "    # Filter contours with height greater than or equal to MIN_HEIGHT\n",
    "    for cnt in contours:\n",
    "        x, y, w, h = cv2.boundingRect(cnt)\n",
    "        if h >= MIN_HEIGHT:\n",
    "            new_contours.append(cnt)\n",
    "\n",
    "    # If no suitable contour is found, return the original image\n",
    "    if not new_contours:\n",
    "        return image\n",
    "\n",
    "    # Get the largest contour that meets the condition\n",
    "    con = new_contours[0]\n",
    "    return con"
   ]
  },
  {
   "cell_type": "code",
   "execution_count": null,
   "metadata": {
    "colab": {
     "base_uri": "https://localhost:8080/"
    },
    "executionInfo": {
     "elapsed": 3,
     "status": "ok",
     "timestamp": 1730555820261,
     "user": {
      "displayName": "Ngọc Thắng Cao",
      "userId": "10985123519591258302"
     },
     "user_tz": -420
    },
    "id": "ukOG2fD1KRJ6",
    "outputId": "8f70fc24-21ed-47ae-8c73-c529352e6624"
   },
   "outputs": [],
   "source": [
    "contours_max = []\n",
    "for img in images_after_process:\n",
    "    con = get_contours_max(img)\n",
    "    con = con.reshape(-1, 2)\n",
    "    print(con.shape)\n",
    "    contours_max.append(con)\n"
   ]
  },
  {
   "cell_type": "code",
   "execution_count": null,
   "metadata": {
    "id": "SFncxLD2Qclz"
   },
   "outputs": [],
   "source": [
    "def predict_mask(image_data):\n",
    "    try:\n",
    "        # Decode and preprocess image\n",
    "        # image = Image.open(io.BytesIO(image_data))\n",
    "        # image = np.array(image)\n",
    "\n",
    "        # Perform image processing\n",
    "        image, con = cut_unecessary_img(image_data)\n",
    "        image = resize_image(image, image[0][0].tolist())\n",
    "        image_normalize = image.astype(np.float32) / 255.0\n",
    "\n",
    "        # Split image into patches\n",
    "        image_array = split_image(image_normalize)\n",
    "\n",
    "        # Predict using U-Net model\n",
    "        predictions = []\n",
    "        batch_size = 1\n",
    "\n",
    "        for i in range(0, len(image_array), batch_size):\n",
    "            batch = np.array(image_array[i:i+batch_size])\n",
    "            batch_predictions = unet.predict(batch)\n",
    "            predictions.extend(batch_predictions)\n",
    "\n",
    "        predictions = np.array(predictions)\n",
    "        merge_mask = merge_images(image,predictions)\n",
    "        merge_mask = (merge_mask > 0.5).astype(np.uint8) * 255\n",
    "\n",
    "        return image, merge_mask, con\n",
    "    except Exception as e:\n",
    "        raise RuntimeError(f\"Error in image prediction: {e}\")"
   ]
  },
  {
   "cell_type": "code",
   "execution_count": null,
   "metadata": {
    "colab": {
     "base_uri": "https://localhost:8080/"
    },
    "executionInfo": {
     "elapsed": 6305,
     "status": "ok",
     "timestamp": 1730554325753,
     "user": {
      "displayName": "Ngọc Thắng Cao",
      "userId": "10985123519591258302"
     },
     "user_tz": -420
    },
    "id": "P4G6rLSAas6B",
    "outputId": "6ad75e1f-5e19-40b2-a76a-e623252d335c"
   },
   "outputs": [],
   "source": [
    "masks_bt = []\n",
    "masks_dir = sorted(glob(os.path.join('images', 'saved', \"*\")))\n",
    "for i in masks_dir:\n",
    "    print(i)\n",
    "    img = cv2.imread(i, cv2.IMREAD_GRAYSCALE)\n",
    "    masks_bt.append(img)"
   ]
  },
  {
   "cell_type": "code",
   "execution_count": null,
   "metadata": {
    "id": "8largnbhQcl1"
   },
   "outputs": [],
   "source": [
    "def draw_contours(image, mask, contours_max):\n",
    "\n",
    "    MIN_WIDTH = 4\n",
    "    MAX_HEIGHT = image.shape[1] / 2\n",
    "    _, mask = cv2.threshold(mask, 127, 255, cv2.THRESH_BINARY)\n",
    "\n",
    "    contours, _ = cv2.findContours(mask, cv2.RETR_EXTERNAL, cv2.CHAIN_APPROX_SIMPLE)\n",
    "\n",
    "    plt.figure(figsize=(10, 5))\n",
    "    plt.subplot(1, 2, 1)\n",
    "    plt.imshow(image)\n",
    "    for cnt in contours:\n",
    "        in_side = 1\n",
    "        cnt = np.array(cnt)\n",
    "        cnt = cnt.reshape(-1,2)\n",
    "        for point in cnt:\n",
    "            # Convert point coordinates to the correct data type (tuple of floats)\n",
    "            point_tuple = (float(point[0]), float(point[1]))\n",
    "            if(cv2.pointPolygonTest(contours_max, point_tuple, False) < 0):\n",
    "                in_side = 0\n",
    "                break\n",
    "        if in_side == 0:\n",
    "            continue\n",
    "        x, y, w, h = cv2.boundingRect(cnt)\n",
    "        if w >= MIN_WIDTH and h < MAX_HEIGHT and h > MIN_WIDTH:\n",
    "            cv2.drawContours(image, [cnt], -1, (0, 0, 255), 2)\n",
    "\n",
    "    plt.subplot(1, 2, 2)\n",
    "    plt.imshow(image)\n",
    "    plt.show()"
   ]
  },
  {
   "cell_type": "code",
   "execution_count": null,
   "metadata": {
    "colab": {
     "base_uri": "https://localhost:8080/",
     "height": 1000,
     "output_embedded_package_id": "1pjNdp1vav178yyt0u0KfxHU1bifANAer"
    },
    "executionInfo": {
     "elapsed": 20063,
     "status": "ok",
     "timestamp": 1730555855667,
     "user": {
      "displayName": "Ngọc Thắng Cao",
      "userId": "10985123519591258302"
     },
     "user_tz": -420
    },
    "id": "MiJyhUf8Qcl2",
    "outputId": "99d0c5f8-e7bf-42d2-961c-901e1e04428f"
   },
   "outputs": [],
   "source": [
    "for img, mk, ctm in zip(images_after_process, masks_bt, contours_max):\n",
    "    draw_contours(img, mk, ctm)"
   ]
  },
  {
   "cell_type": "code",
   "execution_count": null,
   "metadata": {
    "id": "b_Hpj81LQcl3"
   },
   "outputs": [],
   "source": [
    "def predict_cell(image,mask, model, contours_max):\n",
    "    label_dict = {\n",
    "        0: \"abnormal\",\n",
    "        1: \"abnormal_2x\",\n",
    "        2: \"normal\",\n",
    "        3: \"normal_2x\"\n",
    "    }\n",
    "\n",
    "    ret, nguong1 = cv2.threshold(mask, 127, 255, cv2.THRESH_BINARY)\n",
    "    nguong2 = cv2.bitwise_not(nguong1)\n",
    "\n",
    "    contours, _ = cv2.findContours(nguong2, cv2.RETR_LIST, cv2.CHAIN_APPROX_NONE)\n",
    "\n",
    "    MIN_HEIGHT = 10\n",
    "    MAX_HEIGHT = image.shape[0] * 0.25\n",
    "\n",
    "    # bounding_boxes = []\n",
    "    # contours_list = []\n",
    "    cell_info = []\n",
    "    id = 1\n",
    "    for cnt in contours[:-1]:\n",
    "        in_side = 1\n",
    "        cnt = np.array(cnt)\n",
    "        cnt = cnt.reshape(-1,2)\n",
    "        for point in cnt:\n",
    "            point_tuple = (float(point[0]), float(point[1]))\n",
    "            if(cv2.pointPolygonTest(contours_max, point_tuple, False) < 0):\n",
    "                in_side = 0\n",
    "                break\n",
    "        if in_side == 0:\n",
    "            continue\n",
    "        x, y, w, h = cv2.boundingRect(cnt)\n",
    "\n",
    "        if w > MIN_HEIGHT and w < MAX_HEIGHT and h > MIN_HEIGHT and h < MAX_HEIGHT:\n",
    "            y1 = max(0, y - 4)\n",
    "            y2 = min(mask.shape[0], y + h + 4)\n",
    "            x1 = max(0, x - 4)\n",
    "            x2 = min(mask.shape[1], x + w + 4)\n",
    "\n",
    "            crop_number = image[y1:y2, x1:x2]\n",
    "            crop_number = new_resize_image(crop_number, 64, value = image[0][0].tolist())\n",
    "            # Dien tich\n",
    "            area = cv2.contourArea(cnt)\n",
    "            #   Chu vi\n",
    "            perimeter = cv2.arcLength(cnt, True)\n",
    "\n",
    "            #   Circularity\n",
    "            circularity = 4*math.pi * area / (perimeter*perimeter) if perimeter != 0 else 0\n",
    "\n",
    "            # Convexity\n",
    "            hull = cv2.convexHull(cnt)\n",
    "            convexity = cv2.arcLength(hull, True) / cv2.arcLength(cnt, True)\n",
    "\n",
    "            # CE Diameter\n",
    "            CE_diameter = math.sqrt(4 * area / math.pi)\n",
    "\n",
    "            #  Major/minor axis length\n",
    "            ellipse = cv2.fitEllipse(cnt)\n",
    "            major_axis_length = ellipse[1][1]\n",
    "            minor_axis_length = ellipse[1][0]\n",
    "\n",
    "            # Aspect Ratio\n",
    "            aspect_ratio = minor_axis_length / major_axis_length if major_axis_length != 0 else 0\n",
    "\n",
    "            # Max distance\n",
    "            max_distance = 0\n",
    "            for i in range(len(cnt)):\n",
    "                for j in range(i + 1, len(cnt)):\n",
    "                    distance = np.linalg.norm(cnt[i][0] - cnt[j][0])\n",
    "                    max_distance = max(max_distance, distance)\n",
    "            # print(\"Max distance: \", max_distance)\n",
    "            crop_number = crop_number.astype(np.float32) / 255.0\n",
    "            label = model.predict(np.expand_dims(crop_number, axis=0))\n",
    "            predicted_class1 = np.argmax(label, axis =1)\n",
    "           \n",
    "            cell_info.append({\n",
    "                \"cell_id\" :str(id),\n",
    "                \"x\": x,\n",
    "                \"y\": y,\n",
    "                \"width\": w,\n",
    "                \"height\": h,\n",
    "                \"type\": label_dict[int(predicted_class1[0])],\n",
    "                \"area\": area,\n",
    "                \"perimeter\": perimeter,\n",
    "                \"circularity\": circularity,\n",
    "                \"convexity\": convexity,\n",
    "                \"CE_diameter\": CE_diameter,\n",
    "                \"major_axis_length\": major_axis_length,\n",
    "                \"minor_axis_length\": minor_axis_length,\n",
    "                \"aspect_ratio\": aspect_ratio,\n",
    "                \"max_distance\": max_distance,\n",
    "            })\n",
    "    return cell_info"
   ]
  },
  {
   "cell_type": "code",
   "execution_count": null,
   "metadata": {
    "colab": {
     "base_uri": "https://localhost:8080/",
     "height": 1000,
     "output_embedded_package_id": "1sxpWyzfzOP4ryqolH58GXOL8VMWwMVQ3"
    },
    "executionInfo": {
     "elapsed": 11202,
     "status": "ok",
     "timestamp": 1730557276767,
     "user": {
      "displayName": "Ngọc Thắng Cao",
      "userId": "10985123519591258302"
     },
     "user_tz": -420
    },
    "id": "E6DOu-CeMV7a",
    "outputId": "00f18570-e27d-4a78-bbc4-00373904995e"
   },
   "outputs": [],
   "source": [
    "backtest_path = sorted(glob(os.path.join('images', 'Low resolution', \"*\")))\n",
    "images_name = sorted(os.listdir('images/Low resolution'))\n",
    "images_bt = []\n",
    "for i in backtest_path:\n",
    "    img = cv2.imread(i)\n",
    "    images_bt.append(img)\n",
    "images_after_process = []\n",
    "for img in images_bt:\n",
    "    img = cut_unecessary_img(img)\n",
    "    images_after_process.append(img)\n",
    "    plt.imshow(img)\n",
    "    plt.axis('off')\n",
    "    plt.show()\n",
    "masks_bt = []\n",
    "masks_dir = sorted(glob(os.path.join('images', 'saved', \"*\")))\n",
    "for i in masks_dir:\n",
    "    print(i)\n",
    "    img = cv2.imread(i, cv2.IMREAD_GRAYSCALE)\n",
    "    masks_bt.append(img)\n",
    "contours_max_bt = []\n",
    "for img in images_after_process:\n",
    "    con = get_contours_max(img)\n",
    "    con = con.reshape(-1, 2)\n",
    "    print(con.shape)\n",
    "    contours_max_bt.append(con)"
   ]
  },
  {
   "cell_type": "code",
   "execution_count": null,
   "metadata": {
    "id": "FwgjVVXDN4Fj"
   },
   "outputs": [],
   "source": [
    "import csv\n",
    "\n",
    "def save_cell_info_to_csv(cell_info, file_path):\n",
    "    with open(file_path, mode=\"w\", newline=\"\") as file:\n",
    "        writer = csv.DictWriter(file, fieldnames=cell_info[0].keys())\n",
    "        writer.writeheader()\n",
    "        writer.writerows(cell_info)\n"
   ]
  },
  {
   "cell_type": "code",
   "execution_count": null,
   "metadata": {
    "colab": {
     "base_uri": "https://localhost:8080/"
    },
    "executionInfo": {
     "elapsed": 424,
     "status": "ok",
     "timestamp": 1730557304812,
     "user": {
      "displayName": "Ngọc Thắng Cao",
      "userId": "10985123519591258302"
     },
     "user_tz": -420
    },
    "id": "TvzPLfu3Ojqi",
    "outputId": "a4f75114-44cc-4c00-b207-2e39d44fb6d2"
   },
   "outputs": [],
   "source": [
    "images_name = sorted(os.listdir('images/Low resolution'))\n",
    "images_name"
   ]
  },
  {
   "cell_type": "code",
   "execution_count": null,
   "metadata": {
    "colab": {
     "background_save": true,
     "base_uri": "https://localhost:8080/"
    },
    "id": "Uwosl9yYQcl3"
   },
   "outputs": [],
   "source": [
    "for img, mk, ctm, image_name in zip(images_after_process, masks_bt, contours_max_bt, images_name):\n",
    "    print(image_name)\n",
    "    predict_cell(img, mk, cnn, ctm)\n",
    "    file_path = os.path.join('saved_csv', image_name.split('.')[0] + '.csv')\n",
    "    save_cell_info_to_csv(predict_cell(img, mk, cnn, ctm), file_path)\n"
   ]
  },
  {
   "cell_type": "code",
   "execution_count": null,
   "metadata": {
    "colab": {
     "base_uri": "https://localhost:8080/"
    },
    "executionInfo": {
     "elapsed": 4,
     "status": "ok",
     "timestamp": 1730467510049,
     "user": {
      "displayName": "Ngọc Thắng Cao",
      "userId": "10985123519591258302"
     },
     "user_tz": -420
    },
    "id": "Fn1Dvtfh5qJT",
    "outputId": "05145d0c-eaa4-4feb-9b7e-9188afe14c26"
   },
   "outputs": [],
   "source": [
    "print(f\"Images: {len(images_after_process)}, Masks: {len(masks_bt)}, Contours: {len(contours_max_bt)}\")"
   ]
  },
  {
   "cell_type": "code",
   "execution_count": null,
   "metadata": {
    "colab": {
     "base_uri": "https://localhost:8080/",
     "height": 1000,
     "output_embedded_package_id": "1qkujijbTW0qC_ws2PFdwI3FLKD4Y_eCX"
    },
    "executionInfo": {
     "elapsed": 183260,
     "status": "ok",
     "timestamp": 1730467963973,
     "user": {
      "displayName": "Ngọc Thắng Cao",
      "userId": "10985123519591258302"
     },
     "user_tz": -420
    },
    "id": "nf4MxkAP44H8",
    "outputId": "57a71aed-c1e1-4266-e36e-db440b0c7c38"
   },
   "outputs": [],
   "source": [
    "model = cnn\n",
    "i = 1\n",
    "for img, mk in zip(images_after_process, masks_bt):\n",
    "    draw_contours(img, mk)\n",
    "    bounding_boxes, contours_list = predict_cell(img, mk, model)\n",
    "    print(\"Image: \", i)\n",
    "    i += 1\n",
    "    print(\"Bounding boxes: \", bounding_boxes)\n",
    "    print(\"Contour list: \", contours_list)\n",
    "    print(\"\\n\")"
   ]
  },
  {
   "cell_type": "code",
   "execution_count": null,
   "metadata": {
    "id": "VvZ61g-5Qcl4"
   },
   "outputs": [],
   "source": [
    "cnt = [1,0]"
   ]
  },
  {
   "cell_type": "code",
   "execution_count": null,
   "metadata": {
    "colab": {
     "base_uri": "https://localhost:8080/"
    },
    "executionInfo": {
     "elapsed": 1381,
     "status": "ok",
     "timestamp": 1730542819865,
     "user": {
      "displayName": "Ngọc Thắng Cao",
      "userId": "10985123519591258302"
     },
     "user_tz": -420
    },
    "id": "H1UfmJVcQcl4",
    "outputId": "e01b9431-6099-4027-f5bf-245bbeed1fa1"
   },
   "outputs": [],
   "source": [
    "import cv2\n",
    "import numpy as np\n",
    "\n",
    "# Create a sample contour (a simple square)\n",
    "contour = np.array([[100, 100], [200, 100], [200, 200], [100, 200]], dtype=np.int32)\n",
    "contour = contour.reshape((-1, 1, 2))\n",
    "\n",
    "# Define a few test points\n",
    "points = [\n",
    "    (150, 150),  # Inside the square\n",
    "    (100, 100),  # On the edge of the square\n",
    "    (50, 50)     # Outside the square\n",
    "]\n",
    "\n",
    "# Test each point using cv2.pointPolygonTest\n",
    "for point in points:\n",
    "    dist = cv2.pointPolygonTest(contour, point, False)\n",
    "    print(dist)\n"
   ]
  },
  {
   "cell_type": "code",
   "execution_count": null,
   "metadata": {
    "id": "oGceVNesV6ZP"
   },
   "outputs": [],
   "source": [
    "from PIL import Image\n",
    "import numpy as np\n",
    "import matplotlib.pyplot as plt"
   ]
  }
 ],
 "metadata": {
  "accelerator": "GPU",
  "colab": {
   "gpuType": "T4",
   "name": "",
   "version": ""
  },
  "kernelspec": {
   "display_name": "Python 3",
   "language": "python",
   "name": "python3"
  },
  "language_info": {
   "codemirror_mode": {
    "name": "ipython",
    "version": 3
   },
   "file_extension": ".py",
   "mimetype": "text/x-python",
   "name": "python",
   "nbconvert_exporter": "python",
   "pygments_lexer": "ipython3",
   "version": "undefined.undefined.undefined"
  }
 },
 "nbformat": 4,
 "nbformat_minor": 0
}
